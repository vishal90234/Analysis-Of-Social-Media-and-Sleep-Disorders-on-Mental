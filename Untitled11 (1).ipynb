{
 "cells": [
  {
   "cell_type": "code",
   "execution_count": 2,
   "id": "0cd8f05f-eb2c-4a08-8cd9-7ac767d076f5",
   "metadata": {},
   "outputs": [
    {
     "name": "stdout",
     "output_type": "stream",
     "text": [
      "1.4.1 How can we determine the average daily social media usage time among young adults in the sample, and how does it compare to their overall screen time?Descriptive Analysis\n"
     ]
    }
   ],
   "source": [
    "print(\"1.4.1 How can we determine the average daily social media usage time among young adults in the sample, and how does it compare to their overall screen time?Descriptive Analysis\")"
   ]
  },
  {
   "cell_type": "code",
   "execution_count": 3,
   "id": "c48cd4c1-be31-40af-b066-110e7bb67563",
   "metadata": {},
   "outputs": [
    {
     "name": "stdout",
     "output_type": "stream",
     "text": [
      "Column names: ['User_ID', 'Age', 'Birth Year', 'Generation', 'Technology_Usage_Hours', 'Social_Media_Usage_Hours', 'Gaming_Hours', 'Screen_Time_Hours', 'Mental_Health_Status', 'Stress_Level', 'Sleep_Hours', 'Physical_Activity_Hours', 'Support_Systems_Access', 'Work_Environment_Impact', 'Online_Support_Usage']\n"
     ]
    }
   ],
   "source": [
    "import pandas as pd\n",
    "\n",
    "# Define the file path\n",
    "file_path = r'C:\\Users\\DELL\\Downloads\\capstone 4th sem\\mental_health_and_technology_usage_2022.xlsx'\n",
    "\n",
    "# Load the Excel file\n",
    "data = pd.read_excel(file_path)\n",
    "\n",
    "# Print the column names\n",
    "print(\"Column names:\", data.columns.tolist())\n"
   ]
  },
  {
   "cell_type": "code",
   "execution_count": 4,
   "id": "cd22a075-e0fa-460a-8bdf-3132935ed498",
   "metadata": {},
   "outputs": [
    {
     "name": "stdout",
     "output_type": "stream",
     "text": [
      "Average daily social media usage among young adults: 3.95 hours\n",
      "Average overall screen time among young adults: 7.93 hours\n"
     ]
    }
   ],
   "source": [
    "# Define young adults as those between 18 and 35 years old\n",
    "young_adults = data[(data['Age'] >= 18) & (data['Age'] <= 35)]\n",
    "\n",
    "# Calculate the average daily social media usage and screen time for young adults\n",
    "average_social_media_usage = young_adults['Social_Media_Usage_Hours'].mean()\n",
    "average_screen_time = young_adults['Screen_Time_Hours'].mean()\n",
    "\n",
    "# Print the results\n",
    "print(f\"Average daily social media usage among young adults: {average_social_media_usage:.2f} hours\")\n",
    "print(f\"Average overall screen time among young adults: {average_screen_time:.2f} hours\")\n"
   ]
  },
  {
   "cell_type": "code",
   "execution_count": null,
   "id": "251a4e24-ca2d-4543-8c37-f7b49d297abf",
   "metadata": {},
   "outputs": [],
   "source": []
  }
 ],
 "metadata": {
  "kernelspec": {
   "display_name": "Python 3 (ipykernel)",
   "language": "python",
   "name": "python3"
  },
  "language_info": {
   "codemirror_mode": {
    "name": "ipython",
    "version": 3
   },
   "file_extension": ".py",
   "mimetype": "text/x-python",
   "name": "python",
   "nbconvert_exporter": "python",
   "pygments_lexer": "ipython3",
   "version": "3.12.4"
  }
 },
 "nbformat": 4,
 "nbformat_minor": 5
}
