{
  "nbformat": 4,
  "nbformat_minor": 0,
  "metadata": {
    "colab": {
      "provenance": []
    },
    "kernelspec": {
      "name": "python3",
      "display_name": "Python 3"
    },
    "language_info": {
      "name": "python"
    }
  },
  "cells": [
    {
      "cell_type": "markdown",
      "source": [
        "# 1.4.2 How can we estimate the likelihood of experiencing high stress levels given an individual's technology usage patterns and work environment impact?"
      ],
      "metadata": {
        "id": "xUYFcSNjI_qB"
      }
    },
    {
      "cell_type": "code",
      "execution_count": null,
      "metadata": {
        "id": "nQDlS-7PI9Kn"
      },
      "outputs": [],
      "source": [
        "from google.colab import files"
      ]
    },
    {
      "cell_type": "code",
      "source": [
        "uploaded = files.upload()"
      ],
      "metadata": {
        "colab": {
          "base_uri": "https://localhost:8080/",
          "height": 73
        },
        "id": "JLClCYwDJHdk",
        "outputId": "4d556cbc-1316-4c20-a9ce-59bdb5868a30"
      },
      "execution_count": null,
      "outputs": [
        {
          "output_type": "display_data",
          "data": {
            "text/plain": [
              "<IPython.core.display.HTML object>"
            ],
            "text/html": [
              "\n",
              "     <input type=\"file\" id=\"files-4bd3cb6c-1a0b-4234-bbb9-9f08798833fc\" name=\"files[]\" multiple disabled\n",
              "        style=\"border:none\" />\n",
              "     <output id=\"result-4bd3cb6c-1a0b-4234-bbb9-9f08798833fc\">\n",
              "      Upload widget is only available when the cell has been executed in the\n",
              "      current browser session. Please rerun this cell to enable.\n",
              "      </output>\n",
              "      <script>// Copyright 2017 Google LLC\n",
              "//\n",
              "// Licensed under the Apache License, Version 2.0 (the \"License\");\n",
              "// you may not use this file except in compliance with the License.\n",
              "// You may obtain a copy of the License at\n",
              "//\n",
              "//      http://www.apache.org/licenses/LICENSE-2.0\n",
              "//\n",
              "// Unless required by applicable law or agreed to in writing, software\n",
              "// distributed under the License is distributed on an \"AS IS\" BASIS,\n",
              "// WITHOUT WARRANTIES OR CONDITIONS OF ANY KIND, either express or implied.\n",
              "// See the License for the specific language governing permissions and\n",
              "// limitations under the License.\n",
              "\n",
              "/**\n",
              " * @fileoverview Helpers for google.colab Python module.\n",
              " */\n",
              "(function(scope) {\n",
              "function span(text, styleAttributes = {}) {\n",
              "  const element = document.createElement('span');\n",
              "  element.textContent = text;\n",
              "  for (const key of Object.keys(styleAttributes)) {\n",
              "    element.style[key] = styleAttributes[key];\n",
              "  }\n",
              "  return element;\n",
              "}\n",
              "\n",
              "// Max number of bytes which will be uploaded at a time.\n",
              "const MAX_PAYLOAD_SIZE = 100 * 1024;\n",
              "\n",
              "function _uploadFiles(inputId, outputId) {\n",
              "  const steps = uploadFilesStep(inputId, outputId);\n",
              "  const outputElement = document.getElementById(outputId);\n",
              "  // Cache steps on the outputElement to make it available for the next call\n",
              "  // to uploadFilesContinue from Python.\n",
              "  outputElement.steps = steps;\n",
              "\n",
              "  return _uploadFilesContinue(outputId);\n",
              "}\n",
              "\n",
              "// This is roughly an async generator (not supported in the browser yet),\n",
              "// where there are multiple asynchronous steps and the Python side is going\n",
              "// to poll for completion of each step.\n",
              "// This uses a Promise to block the python side on completion of each step,\n",
              "// then passes the result of the previous step as the input to the next step.\n",
              "function _uploadFilesContinue(outputId) {\n",
              "  const outputElement = document.getElementById(outputId);\n",
              "  const steps = outputElement.steps;\n",
              "\n",
              "  const next = steps.next(outputElement.lastPromiseValue);\n",
              "  return Promise.resolve(next.value.promise).then((value) => {\n",
              "    // Cache the last promise value to make it available to the next\n",
              "    // step of the generator.\n",
              "    outputElement.lastPromiseValue = value;\n",
              "    return next.value.response;\n",
              "  });\n",
              "}\n",
              "\n",
              "/**\n",
              " * Generator function which is called between each async step of the upload\n",
              " * process.\n",
              " * @param {string} inputId Element ID of the input file picker element.\n",
              " * @param {string} outputId Element ID of the output display.\n",
              " * @return {!Iterable<!Object>} Iterable of next steps.\n",
              " */\n",
              "function* uploadFilesStep(inputId, outputId) {\n",
              "  const inputElement = document.getElementById(inputId);\n",
              "  inputElement.disabled = false;\n",
              "\n",
              "  const outputElement = document.getElementById(outputId);\n",
              "  outputElement.innerHTML = '';\n",
              "\n",
              "  const pickedPromise = new Promise((resolve) => {\n",
              "    inputElement.addEventListener('change', (e) => {\n",
              "      resolve(e.target.files);\n",
              "    });\n",
              "  });\n",
              "\n",
              "  const cancel = document.createElement('button');\n",
              "  inputElement.parentElement.appendChild(cancel);\n",
              "  cancel.textContent = 'Cancel upload';\n",
              "  const cancelPromise = new Promise((resolve) => {\n",
              "    cancel.onclick = () => {\n",
              "      resolve(null);\n",
              "    };\n",
              "  });\n",
              "\n",
              "  // Wait for the user to pick the files.\n",
              "  const files = yield {\n",
              "    promise: Promise.race([pickedPromise, cancelPromise]),\n",
              "    response: {\n",
              "      action: 'starting',\n",
              "    }\n",
              "  };\n",
              "\n",
              "  cancel.remove();\n",
              "\n",
              "  // Disable the input element since further picks are not allowed.\n",
              "  inputElement.disabled = true;\n",
              "\n",
              "  if (!files) {\n",
              "    return {\n",
              "      response: {\n",
              "        action: 'complete',\n",
              "      }\n",
              "    };\n",
              "  }\n",
              "\n",
              "  for (const file of files) {\n",
              "    const li = document.createElement('li');\n",
              "    li.append(span(file.name, {fontWeight: 'bold'}));\n",
              "    li.append(span(\n",
              "        `(${file.type || 'n/a'}) - ${file.size} bytes, ` +\n",
              "        `last modified: ${\n",
              "            file.lastModifiedDate ? file.lastModifiedDate.toLocaleDateString() :\n",
              "                                    'n/a'} - `));\n",
              "    const percent = span('0% done');\n",
              "    li.appendChild(percent);\n",
              "\n",
              "    outputElement.appendChild(li);\n",
              "\n",
              "    const fileDataPromise = new Promise((resolve) => {\n",
              "      const reader = new FileReader();\n",
              "      reader.onload = (e) => {\n",
              "        resolve(e.target.result);\n",
              "      };\n",
              "      reader.readAsArrayBuffer(file);\n",
              "    });\n",
              "    // Wait for the data to be ready.\n",
              "    let fileData = yield {\n",
              "      promise: fileDataPromise,\n",
              "      response: {\n",
              "        action: 'continue',\n",
              "      }\n",
              "    };\n",
              "\n",
              "    // Use a chunked sending to avoid message size limits. See b/62115660.\n",
              "    let position = 0;\n",
              "    do {\n",
              "      const length = Math.min(fileData.byteLength - position, MAX_PAYLOAD_SIZE);\n",
              "      const chunk = new Uint8Array(fileData, position, length);\n",
              "      position += length;\n",
              "\n",
              "      const base64 = btoa(String.fromCharCode.apply(null, chunk));\n",
              "      yield {\n",
              "        response: {\n",
              "          action: 'append',\n",
              "          file: file.name,\n",
              "          data: base64,\n",
              "        },\n",
              "      };\n",
              "\n",
              "      let percentDone = fileData.byteLength === 0 ?\n",
              "          100 :\n",
              "          Math.round((position / fileData.byteLength) * 100);\n",
              "      percent.textContent = `${percentDone}% done`;\n",
              "\n",
              "    } while (position < fileData.byteLength);\n",
              "  }\n",
              "\n",
              "  // All done.\n",
              "  yield {\n",
              "    response: {\n",
              "      action: 'complete',\n",
              "    }\n",
              "  };\n",
              "}\n",
              "\n",
              "scope.google = scope.google || {};\n",
              "scope.google.colab = scope.google.colab || {};\n",
              "scope.google.colab._files = {\n",
              "  _uploadFiles,\n",
              "  _uploadFilesContinue,\n",
              "};\n",
              "})(self);\n",
              "</script> "
            ]
          },
          "metadata": {}
        },
        {
          "output_type": "stream",
          "name": "stdout",
          "text": [
            "Saving mental_health_and_technology_usage_2022.xlsx to mental_health_and_technology_usage_2022.xlsx\n"
          ]
        }
      ]
    },
    {
      "cell_type": "code",
      "source": [
        "import pandas as pd\n",
        "data = pd.read_excel('mental_health_and_technology_usage_2022.xlsx')"
      ],
      "metadata": {
        "id": "5wMIt291JKHC"
      },
      "execution_count": null,
      "outputs": []
    },
    {
      "cell_type": "code",
      "source": [
        "print(data.columns)"
      ],
      "metadata": {
        "colab": {
          "base_uri": "https://localhost:8080/"
        },
        "id": "D6iqu5SCJaeX",
        "outputId": "4d59e58d-84ab-4251-c5dc-799ce2ad33da"
      },
      "execution_count": null,
      "outputs": [
        {
          "output_type": "stream",
          "name": "stdout",
          "text": [
            "Index(['User_ID', 'Age', 'Birth Year', 'Generation', 'Technology_Usage_Hours',\n",
            "       'Social_Media_Usage_Hours', 'Gaming_Hours', 'Screen_Time_Hours',\n",
            "       'Mental_Health_Status', 'Stress_Level', 'Sleep_Hours',\n",
            "       'Physical_Activity_Hours', 'Support_Systems_Access',\n",
            "       'Work_Environment_Impact', 'Online_Support_Usage'],\n",
            "      dtype='object')\n"
          ]
        }
      ]
    },
    {
      "source": [
        "print(data)"
      ],
      "cell_type": "code",
      "metadata": {
        "colab": {
          "base_uri": "https://localhost:8080/"
        },
        "id": "95vPNdnMRKEH",
        "outputId": "076ac47f-d824-4bc3-ff8d-a0f8339ae8a8"
      },
      "execution_count": null,
      "outputs": [
        {
          "output_type": "stream",
          "name": "stdout",
          "text": [
            "         User_ID  Age  Birth Year   Generation  Technology_Usage_Hours  \\\n",
            "0     USER-00001   23        1999        Gen Z                    6.57   \n",
            "1     USER-00002   21        2001        Gen Z                    3.01   \n",
            "2     USER-00003   51        1971        Gen X                    3.04   \n",
            "3     USER-00004   25        1997        Gen Z                    3.84   \n",
            "4     USER-00005   53        1969        Gen X                    1.20   \n",
            "...          ...  ...         ...          ...                     ...   \n",
            "9995  USER-09996   42        1980        Gen X                    7.05   \n",
            "9996  USER-09997   31        1991  Millennials                    3.12   \n",
            "9997  USER-09998   23        1999        Gen Z                    4.38   \n",
            "9998  USER-09999   38        1984  Millennials                    4.44   \n",
            "9999  USER-10000   41        1981  Millennials                    2.50   \n",
            "\n",
            "      Social_Media_Usage_Hours  Gaming_Hours  Screen_Time_Hours  \\\n",
            "0                         6.00          0.68              12.36   \n",
            "1                         2.57          3.74               7.61   \n",
            "2                         6.14          1.26               3.16   \n",
            "3                         4.48          2.59              13.08   \n",
            "4                         0.56          0.29              12.63   \n",
            "...                        ...           ...                ...   \n",
            "9995                      0.41          0.53              13.90   \n",
            "9996                      6.79          0.80               1.17   \n",
            "9997                      3.98          0.52               7.81   \n",
            "9998                      1.48          3.28              13.95   \n",
            "9999                      4.80          0.25               8.82   \n",
            "\n",
            "     Mental_Health_Status Stress_Level  Sleep_Hours  Physical_Activity_Hours  \\\n",
            "0                    Good          Low         8.01                     6.71   \n",
            "1                    Poor         High         7.28                     5.88   \n",
            "2                    Fair         High         8.04                     9.81   \n",
            "3               Excellent       Medium         5.62                     5.28   \n",
            "4                    Good          Low         5.55                     4.00   \n",
            "...                   ...          ...          ...                      ...   \n",
            "9995                 Good       Medium         7.37                     5.02   \n",
            "9996                 Fair       Medium         8.92                     9.78   \n",
            "9997                 Poor         High         7.59                     2.99   \n",
            "9998                 Poor       Medium         7.26                     2.24   \n",
            "9999                 Fair          Low         4.62                     5.09   \n",
            "\n",
            "     Support_Systems_Access Work_Environment_Impact Online_Support_Usage  \n",
            "0                        No                Negative                  Yes  \n",
            "1                       Yes                Positive                   No  \n",
            "2                        No                Negative                   No  \n",
            "3                       Yes                Negative                  Yes  \n",
            "4                        No                Positive                  Yes  \n",
            "...                     ...                     ...                  ...  \n",
            "9995                    Yes                 Neutral                   No  \n",
            "9996                     No                 Neutral                  Yes  \n",
            "9997                     No                Positive                   No  \n",
            "9998                    Yes                 Neutral                  Yes  \n",
            "9999                    Yes                Positive                  Yes  \n",
            "\n",
            "[10000 rows x 15 columns]\n"
          ]
        }
      ]
    },
    {
      "cell_type": "code",
      "source": [
        "# Import necessary libraries\n",
        "import pandas as pd\n",
        "from sklearn.model_selection import train_test_split\n",
        "from sklearn.linear_model import LogisticRegression\n",
        "from sklearn.preprocessing import LabelEncoder\n",
        "from sklearn.metrics import accuracy_score, classification_report\n",
        "\n",
        "\n",
        "\n",
        "# Check column names to ensure they are correct\n",
        "print(data.columns)\n",
        "\n",
        "# If there are extra spaces in the column names, remove them\n",
        "data.columns = data.columns.str.strip()\n",
        "\n",
        "# Preprocessing: Convert Stress_Level to binary (1 for 'High', 0 for 'Low' or 'Medium')\n",
        "data['Stress_Level_Binary'] = data['Stress_Level'].apply(lambda x: 1 if x == 'High' else 0)\n",
        "\n",
        "# Encoding categorical variables\n",
        "le = LabelEncoder()\n",
        "data['Mental_Health_Status'] = le.fit_transform(data['Mental_Health_Status'])\n",
        "data['Support_Systems_Access'] = le.fit_transform(data['Support_Systems_Access'])\n",
        "data['Online_Support_Usage'] = le.fit_transform(data['Online_Support_Usage'])\n",
        "data['Work_Environment_Impact'] = le.fit_transform(data['Work_Environment_Impact'])\n",
        "\n",
        "# Select independent variables (Technology usage, work environment impact, etc.)\n",
        "X = data[['Technology_Usage_Hours', 'Social_Media_Usage_Hours', 'Screen_Time_Hours',\n",
        "           'Work_Environment_Impact', 'Physical_Activity_Hours', 'Sleep_Hours']]\n",
        "y = data['Stress_Level_Binary']\n",
        "\n",
        "# Split data into training and testing sets\n",
        "X_train, X_test, y_train, y_test = train_test_split(X, y, test_size=0.3, random_state=42)\n",
        "\n",
        "# Logistic Regression model\n",
        "lr_model = LogisticRegression(max_iter=1000)  # Increased max_iter to ensure convergence\n",
        "lr_model.fit(X_train, y_train)\n",
        "\n",
        "# Predictions and evaluation\n",
        "y_pred = lr_model.predict(X_test)\n",
        "accuracy = accuracy_score(y_test, y_pred)\n",
        "report = classification_report(y_test, y_pred)\n",
        "\n",
        "# Output the results\n",
        "print(\"Accuracy: \", accuracy)\n",
        "print(\"Classification Report: \\n\", report)\n"
      ],
      "metadata": {
        "colab": {
          "base_uri": "https://localhost:8080/"
        },
        "id": "780xsqvhRnKX",
        "outputId": "b5dc2fe0-6ce8-42bc-fd8d-78e6403b5790"
      },
      "execution_count": null,
      "outputs": [
        {
          "output_type": "stream",
          "name": "stdout",
          "text": [
            "Index(['User_ID', 'Age', 'Birth Year', 'Generation', 'Technology_Usage_Hours',\n",
            "       'Social_Media_Usage_Hours', 'Gaming_Hours', 'Screen_Time_Hours',\n",
            "       'Mental_Health_Status', 'Stress_Level', 'Sleep_Hours',\n",
            "       'Physical_Activity_Hours', 'Support_Systems_Access',\n",
            "       'Work_Environment_Impact', 'Online_Support_Usage'],\n",
            "      dtype='object')\n",
            "Accuracy:  0.6813333333333333\n",
            "Classification Report: \n",
            "               precision    recall  f1-score   support\n",
            "\n",
            "           0       0.68      1.00      0.81      2044\n",
            "           1       0.00      0.00      0.00       956\n",
            "\n",
            "    accuracy                           0.68      3000\n",
            "   macro avg       0.34      0.50      0.41      3000\n",
            "weighted avg       0.46      0.68      0.55      3000\n",
            "\n"
          ]
        },
        {
          "output_type": "stream",
          "name": "stderr",
          "text": [
            "/usr/local/lib/python3.10/dist-packages/sklearn/metrics/_classification.py:1531: UndefinedMetricWarning: Precision is ill-defined and being set to 0.0 in labels with no predicted samples. Use `zero_division` parameter to control this behavior.\n",
            "  _warn_prf(average, modifier, f\"{metric.capitalize()} is\", len(result))\n",
            "/usr/local/lib/python3.10/dist-packages/sklearn/metrics/_classification.py:1531: UndefinedMetricWarning: Precision is ill-defined and being set to 0.0 in labels with no predicted samples. Use `zero_division` parameter to control this behavior.\n",
            "  _warn_prf(average, modifier, f\"{metric.capitalize()} is\", len(result))\n",
            "/usr/local/lib/python3.10/dist-packages/sklearn/metrics/_classification.py:1531: UndefinedMetricWarning: Precision is ill-defined and being set to 0.0 in labels with no predicted samples. Use `zero_division` parameter to control this behavior.\n",
            "  _warn_prf(average, modifier, f\"{metric.capitalize()} is\", len(result))\n"
          ]
        }
      ]
    }
  ]
}